{
 "cells": [
  {
   "cell_type": "code",
   "execution_count": 1,
   "metadata": {},
   "outputs": [],
   "source": [
    "import torch \n",
    "import torchvision\n",
    "import matplotlib.pyplot as plt\n",
    "import numpy as np\n",
    "\n",
    "%load_ext autoreload\n",
    "%autoreload 2"
   ]
  },
  {
   "cell_type": "code",
   "execution_count": 3,
   "metadata": {},
   "outputs": [
    {
     "name": "stderr",
     "output_type": "stream",
     "text": [
      "p:\\wasp_summur_shool_media_lang_2023\\venv\\lib\\site-packages\\torchaudio\\backend\\utils.py:74: UserWarning: No audio backend is available.\n",
      "  warnings.warn(\"No audio backend is available.\")\n"
     ]
    },
    {
     "ename": "ModuleNotFoundError",
     "evalue": "No module named 'tortoise'",
     "output_type": "error",
     "traceback": [
      "\u001b[1;31m---------------------------------------------------------------------------\u001b[0m",
      "\u001b[1;31mModuleNotFoundError\u001b[0m                       Traceback (most recent call last)",
      "Cell \u001b[1;32mIn[3], line 7\u001b[0m\n\u001b[0;32m      4\u001b[0m \u001b[39mimport\u001b[39;00m \u001b[39mtorch\u001b[39;00m\n\u001b[0;32m      5\u001b[0m \u001b[39mimport\u001b[39;00m \u001b[39mtorchaudio\u001b[39;00m\n\u001b[1;32m----> 7\u001b[0m \u001b[39mfrom\u001b[39;00m \u001b[39mtortoise\u001b[39;00m\u001b[39m.\u001b[39;00m\u001b[39mapi\u001b[39;00m \u001b[39mimport\u001b[39;00m TextToSpeech, MODELS_DIR\n\u001b[0;32m      8\u001b[0m \u001b[39mfrom\u001b[39;00m \u001b[39mtortoise\u001b[39;00m\u001b[39m.\u001b[39;00m\u001b[39maudio\u001b[39;00m \u001b[39mimport\u001b[39;00m load_voices\n",
      "\u001b[1;31mModuleNotFoundError\u001b[0m: No module named 'tortoise'"
     ]
    }
   ],
   "source": [
    "import argparse\n",
    "import os\n",
    "\n",
    "import torch\n",
    "import torchaudio\n",
    "\n",
    "from tortoise.api import TextToSpeech, MODELS_DIR\n",
    "from tortoise.audio import load_voices"
   ]
  },
  {
   "cell_type": "code",
   "execution_count": null,
   "metadata": {},
   "outputs": [],
   "source": [
    "\n",
    "if __name__ == '__main__':\n",
    "    parser = argparse.ArgumentParser()\n",
    "    parser.add_argument('--text', type=str, help='Text to speak.', default=\"The expressiveness of autoregressive transformers is literally nuts! I absolutely adore them.\")\n",
    "    parser.add_argument('--voice', type=str, help='Selects the voice to use for generation. See options in voices/ directory (and add your own!) '\n",
    "                                                 'Use the & character to join two voices together. Use a comma to perform inference on multiple voices.', default='random')\n",
    "    parser.add_argument('--preset', type=str, help='Which voice preset to use.', default='fast')\n",
    "    parser.add_argument('--use_deepspeed', type=str, help='Which voice preset to use.', default=False)\n",
    "    parser.add_argument('--kv_cache', type=bool, help='If you disable this please wait for a long a time to get the output', default=True)\n",
    "    parser.add_argument('--half', type=bool, help=\"float16(half) precision inference if True it's faster and take less vram and ram\", default=True)\n",
    "    parser.add_argument('--output_path', type=str, help='Where to store outputs.', default='results/')\n",
    "    parser.add_argument('--model_dir', type=str, help='Where to find pretrained model checkpoints. Tortoise automatically downloads these to .models, so this'\n",
    "                                                      'should only be specified if you have custom checkpoints.', default=MODELS_DIR)\n",
    "    parser.add_argument('--candidates', type=int, help='How many output candidates to produce per-voice.', default=3)\n",
    "    parser.add_argument('--seed', type=int, help='Random seed which can be used to reproduce results.', default=None)\n",
    "    parser.add_argument('--produce_debug_state', type=bool, help='Whether or not to produce debug_state.pth, which can aid in reproducing problems. Defaults to true.', default=True)\n",
    "    parser.add_argument('--cvvp_amount', type=float, help='How much the CVVP model should influence the output.'\n",
    "                                                          'Increasing this can in some cases reduce the likelihood of multiple speakers. Defaults to 0 (disabled)', default=.0)\n",
    "    args = parser.parse_args()\n",
    "    if torch.backends.mps.is_available():\n",
    "        args.use_deepspeed = False\n",
    "    os.makedirs(args.output_path, exist_ok=True)\n",
    "    tts = TextToSpeech(models_dir=args.model_dir, use_deepspeed=args.use_deepspeed, kv_cache=args.kv_cache, half=args.half)\n",
    "\n",
    "    selected_voices = args.voice.split(',')\n",
    "    for k, selected_voice in enumerate(selected_voices):\n",
    "        if '&' in selected_voice:\n",
    "            voice_sel = selected_voice.split('&')\n",
    "        else:\n",
    "            voice_sel = [selected_voice]\n",
    "        voice_samples, conditioning_latents = load_voices(voice_sel)\n",
    "\n",
    "        gen, dbg_state = tts.tts_with_preset(args.text, k=args.candidates, voice_samples=voice_samples, conditioning_latents=conditioning_latents,\n",
    "                                  preset=args.preset, use_deterministic_seed=args.seed, return_deterministic_state=True, cvvp_amount=args.cvvp_amount)\n",
    "        if isinstance(gen, list):\n",
    "            for j, g in enumerate(gen):\n",
    "                torchaudio.save(os.path.join(args.output_path, f'{selected_voice}_{k}_{j}.wav'), g.squeeze(0).cpu(), 24000)\n",
    "        else:\n",
    "            torchaudio.save(os.path.join(args.output_path, f'{selected_voice}_{k}.wav'), gen.squeeze(0).cpu(), 24000)\n",
    "\n",
    "        if args.produce_debug_state:\n",
    "            os.makedirs('debug_states', exist_ok=True)\n",
    "            torch.save(dbg_state, f'debug_states/do_tts_debug_{selected_voice}.pth')\n",
    "\n"
   ]
  }
 ],
 "metadata": {
  "kernelspec": {
   "display_name": "venv",
   "language": "python",
   "name": "python3"
  },
  "language_info": {
   "codemirror_mode": {
    "name": "ipython",
    "version": 3
   },
   "file_extension": ".py",
   "mimetype": "text/x-python",
   "name": "python",
   "nbconvert_exporter": "python",
   "pygments_lexer": "ipython3",
   "version": "3.10.11"
  },
  "orig_nbformat": 4
 },
 "nbformat": 4,
 "nbformat_minor": 2
}
