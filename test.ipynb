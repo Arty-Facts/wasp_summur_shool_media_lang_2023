{
 "cells": [
  {
   "cell_type": "code",
   "execution_count": 11,
   "metadata": {},
   "outputs": [
    {
     "name": "stdout",
     "output_type": "stream",
     "text": [
      "The autoreload extension is already loaded. To reload it, use:\n",
      "  %reload_ext autoreload\n"
     ]
    }
   ],
   "source": [
    "from story.utils import text_to_speech, parse_story, dispatch_generate_bvh, dispatch_generate_fbx, dispatch_generate_mp4, job_done, get_data, save_data, combine_mp4s, zip_story\n",
    "\n",
    "%load_ext autoreload\n",
    "%autoreload 2\n"
   ]
  },
  {
   "cell_type": "code",
   "execution_count": 12,
   "metadata": {},
   "outputs": [
    {
     "name": "stdout",
     "output_type": "stream",
     "text": [
      "freeman\n",
      "{'arty': 'a', 'trump': 'b', 'freeman': 'c'}\n",
      "Adding results/0_freeman.wav as results/0_c.wav\n",
      "arty\n",
      "{'arty': 'a', 'trump': 'b', 'freeman': 'c'}\n",
      "Adding results/7_arty.wav as results/7_a.wav\n",
      "trump\n",
      "{'arty': 'a', 'trump': 'b', 'freeman': 'c'}\n",
      "Adding results/10_trump.wav as results/10_b.wav\n",
      "freeman\n",
      "{'arty': 'a', 'trump': 'b', 'freeman': 'c'}\n",
      "Adding results/6_freeman.wav as results/6_c.wav\n",
      "freeman\n",
      "{'arty': 'a', 'trump': 'b', 'freeman': 'c'}\n",
      "Adding results/9_freeman.wav as results/9_c.wav\n",
      "story\n",
      "{'arty': 'a', 'trump': 'b', 'freeman': 'c'}\n",
      "Adding results/story.wav as results/story.wav\n",
      "trump\n",
      "{'arty': 'a', 'trump': 'b', 'freeman': 'c'}\n",
      "Adding results/5_trump.wav as results/5_b.wav\n",
      "arty\n",
      "{'arty': 'a', 'trump': 'b', 'freeman': 'c'}\n",
      "Adding results/11_arty.wav as results/11_a.wav\n",
      "arty\n",
      "{'arty': 'a', 'trump': 'b', 'freeman': 'c'}\n",
      "Adding results/4_arty.wav as results/4_a.wav\n",
      "trump\n",
      "{'arty': 'a', 'trump': 'b', 'freeman': 'c'}\n",
      "Adding results/1_trump.wav as results/1_b.wav\n",
      "trump\n",
      "{'arty': 'a', 'trump': 'b', 'freeman': 'c'}\n",
      "Adding results/3_trump.wav as results/3_b.wav\n",
      "arty\n",
      "{'arty': 'a', 'trump': 'b', 'freeman': 'c'}\n",
      "Adding results/2_arty.wav as results/2_a.wav\n",
      "trump\n",
      "{'arty': 'a', 'trump': 'b', 'freeman': 'c'}\n",
      "Adding results/8_trump.wav as results/8_b.wav\n",
      "freeman\n",
      "{'arty': 'a', 'trump': 'b', 'freeman': 'c'}\n",
      "Adding results/3_freeman.wav as results/3_c.wav\n",
      "freeman\n",
      "{'arty': 'a', 'trump': 'b', 'freeman': 'c'}\n",
      "Adding results/9_freeman.fbx as results/9_c.fbx\n",
      "freeman\n",
      "{'arty': 'a', 'trump': 'b', 'freeman': 'c'}\n",
      "Adding results/6_freeman.fbx as results/6_c.fbx\n",
      "trump\n",
      "{'arty': 'a', 'trump': 'b', 'freeman': 'c'}\n",
      "Adding results/10_trump.fbx as results/10_b.fbx\n",
      "arty\n",
      "{'arty': 'a', 'trump': 'b', 'freeman': 'c'}\n",
      "Adding results/7_arty.fbx as results/7_a.fbx\n",
      "freeman\n",
      "{'arty': 'a', 'trump': 'b', 'freeman': 'c'}\n",
      "Adding results/0_freeman.fbx as results/0_c.fbx\n",
      "trump\n",
      "{'arty': 'a', 'trump': 'b', 'freeman': 'c'}\n",
      "Adding results/8_trump.fbx as results/8_b.fbx\n",
      "freeman\n",
      "{'arty': 'a', 'trump': 'b', 'freeman': 'c'}\n",
      "Adding results/3_freeman.fbx as results/3_c.fbx\n",
      "arty\n",
      "{'arty': 'a', 'trump': 'b', 'freeman': 'c'}\n",
      "Adding results/2_arty.fbx as results/2_a.fbx\n",
      "trump\n",
      "{'arty': 'a', 'trump': 'b', 'freeman': 'c'}\n",
      "Adding results/1_trump.fbx as results/1_b.fbx\n",
      "arty\n",
      "{'arty': 'a', 'trump': 'b', 'freeman': 'c'}\n",
      "Adding results/4_arty.fbx as results/4_a.fbx\n",
      "trump\n",
      "{'arty': 'a', 'trump': 'b', 'freeman': 'c'}\n",
      "Adding results/3_trump.fbx as results/3_b.fbx\n",
      "trump\n",
      "{'arty': 'a', 'trump': 'b', 'freeman': 'c'}\n",
      "Adding results/5_trump.fbx as results/5_b.fbx\n",
      "arty\n",
      "{'arty': 'a', 'trump': 'b', 'freeman': 'c'}\n",
      "Adding results/11_arty.fbx as results/11_a.fbx\n",
      "ZIP archive \"results/story.zip\" created successfully.\n"
     ]
    }
   ],
   "source": [
    "zip_story(\"results\", [\"wav\", \"fbx\"], {\"arty\": \"a\", \"trump\": \"b\", \"freeman\": \"c\"})"
   ]
  },
  {
   "cell_type": "code",
   "execution_count": 28,
   "metadata": {},
   "outputs": [
    {
     "name": "stdout",
     "output_type": "stream",
     "text": [
      "Generating autoregressive samples..\n"
     ]
    },
    {
     "name": "stderr",
     "output_type": "stream",
     "text": [
      "100%|██████████| 16/16 [00:21<00:00,  1.36s/it]\n"
     ]
    },
    {
     "name": "stdout",
     "output_type": "stream",
     "text": [
      "Computing best candidates using CLVP\n"
     ]
    },
    {
     "name": "stderr",
     "output_type": "stream",
     "text": [
      "100%|██████████| 16/16 [00:02<00:00,  7.32it/s]\n"
     ]
    },
    {
     "name": "stdout",
     "output_type": "stream",
     "text": [
      "Transforming autoregressive outputs into audio..\n"
     ]
    },
    {
     "name": "stderr",
     "output_type": "stream",
     "text": [
      "100%|██████████| 400/400 [00:12<00:00, 32.87it/s]\n"
     ]
    },
    {
     "data": {
      "text/plain": [
       "'results/0_trump.wav'"
      ]
     },
     "execution_count": 28,
     "metadata": {},
     "output_type": "execute_result"
    }
   ],
   "source": [
    "text_to_speech(\"Hello world im the smartest person in the world\", \"trump\", use_deepspeed=False)"
   ]
  },
  {
   "cell_type": "code",
   "execution_count": 49,
   "metadata": {},
   "outputs": [
    {
     "data": {
      "text/plain": [
       "[(0,\n",
       "  'freeman',\n",
       "  'Sheldon, Amy, Leonard, and Penny arrive at the WARA Media & Language Summer School for the first day of events.'),\n",
       " (1,\n",
       "  'sheldon',\n",
       "  \"Amy, I still can't understand why we're wasting our time at a 'Summer School.' My intelligence is hardly seasonal.\"),\n",
       " (2,\n",
       "  'amy',\n",
       "  \"Sheldon, it's a great opportunity to learn something new, and collaborate with others.\"),\n",
       " (3,\n",
       "  'sheldon',\n",
       "  \"Collaborate? That's just a fancy term for intellectual mooching.\"),\n",
       " (4,\n",
       "  'freeman',\n",
       "  \"The group is shown examples of last year's student projects.\"),\n",
       " (5,\n",
       "  'sheldon',\n",
       "  'This is preposterous! This money should be funneled into real research. Like mine.'),\n",
       " (6,\n",
       "  'amy',\n",
       "  \"Try to find the positive aspects, Sheldon. Maybe you'll even enjoy creating a short story with 3D avatars.\"),\n",
       " (7, 'sheldon', \"Enjoy? I'd sooner enjoy a root canal.\"),\n",
       " (8,\n",
       "  'freeman',\n",
       "  'Zenodia Charpy from NVIDIA is presenting about Multi-model technologies.'),\n",
       " (9,\n",
       "  'leonard',\n",
       "  \"Ah, NVIDIA, solving the age-old problem of 'it works on my system' by making sure everyone's using their system.\"),\n",
       " (10,\n",
       "  'penny',\n",
       "  \"So, what you're saying is, it's like making everyone drink the Kool-Aid?\"),\n",
       " (11,\n",
       "  'leonard',\n",
       "  'Exactly! Except the Kool-Aid is always missing a driver update.'),\n",
       " (12,\n",
       "  'freeman',\n",
       "  \"Sheldon gets frustrated during Marcus Liwicki's talk on the current limitations and future of large language models.\"),\n",
       " (13,\n",
       "  'sheldon',\n",
       "  \"Stochastic exploration? Why don't we just call it what it is: intellectual anarchy!\"),\n",
       " (14, 'amy', \"Sheldon, it's just a different approach to research.\"),\n",
       " (15,\n",
       "  'sheldon',\n",
       "  \"Well, in that case, why don't we just throw darts at a board to decide our research topics?\"),\n",
       " (16,\n",
       "  'freeman',\n",
       "  'The group is working on their assignment to create a short story with 3D avatars.'),\n",
       " (17, 'amy', 'Sheldon, can you please work with us on the storyline?'),\n",
       " (18,\n",
       "  'sheldon',\n",
       "  'I work alone. Think of me as the Batman of theoretical physics.'),\n",
       " (19, 'penny', 'Does that make Amy your Robin?'),\n",
       " (20, 'sheldon', 'More like Alfred. She manages the chaos.'),\n",
       " (21, 'amy', 'Well, Alfred is pretty essential to Batman.'),\n",
       " (22,\n",
       "  'sheldon',\n",
       "  \"Fine, I'll collaborate, but only because Alfred makes a mean cup of tea.\")]"
      ]
     },
     "execution_count": 49,
     "metadata": {},
     "output_type": "execute_result"
    }
   ],
   "source": [
    "parse_story(\"project/story.json\")"
   ]
  },
  {
   "cell_type": "code",
   "execution_count": 3,
   "metadata": {},
   "outputs": [],
   "source": [
    "import requests\n",
    "from pathlib import Path\n"
   ]
  },
  {
   "cell_type": "code",
   "execution_count": 4,
   "metadata": {},
   "outputs": [
    {
     "name": "stdout",
     "output_type": "stream",
     "text": [
      "30de2599-c296-42a2-a93e-f0c9cb5aa408\n"
     ]
    }
   ],
   "source": [
    "wav = \"results/0_freeman.wav\"\n",
    "\n",
    "bvh_id = dispatch_generate_bvh(wav)\n",
    "print(bvh_id)"
   ]
  },
  {
   "cell_type": "code",
   "execution_count": 10,
   "metadata": {},
   "outputs": [
    {
     "data": {
      "text/plain": [
       "True"
      ]
     },
     "execution_count": 10,
     "metadata": {},
     "output_type": "execute_result"
    }
   ],
   "source": [
    "job_done(bvh_id)"
   ]
  },
  {
   "cell_type": "code",
   "execution_count": 11,
   "metadata": {},
   "outputs": [],
   "source": [
    "bvh_data = get_data(bvh_id)"
   ]
  },
  {
   "cell_type": "code",
   "execution_count": 12,
   "metadata": {},
   "outputs": [
    {
     "name": "stdout",
     "output_type": "stream",
     "text": [
      "a0797c83-7749-4a68-8fd6-5a31639d5f72\n"
     ]
    }
   ],
   "source": [
    "fbx_id = dispatch_generate_fbx(bvh_data)\n",
    "print(fbx_id)"
   ]
  },
  {
   "cell_type": "code",
   "execution_count": 16,
   "metadata": {},
   "outputs": [
    {
     "data": {
      "text/plain": [
       "True"
      ]
     },
     "execution_count": 16,
     "metadata": {},
     "output_type": "execute_result"
    }
   ],
   "source": [
    "job_done(fbx_id)"
   ]
  },
  {
   "cell_type": "code",
   "execution_count": 17,
   "metadata": {},
   "outputs": [],
   "source": [
    "fbx_data = get_data(fbx_id)"
   ]
  },
  {
   "cell_type": "code",
   "execution_count": 18,
   "metadata": {},
   "outputs": [
    {
     "name": "stdout",
     "output_type": "stream",
     "text": [
      "6aeb2b88-7da3-4aac-90f4-e07b0571347f\n"
     ]
    }
   ],
   "source": [
    "mp4_id = dispatch_generate_mp4(bvh_data, wav)\n",
    "print(mp4_id)"
   ]
  },
  {
   "cell_type": "code",
   "execution_count": 22,
   "metadata": {},
   "outputs": [
    {
     "data": {
      "text/plain": [
       "True"
      ]
     },
     "execution_count": 22,
     "metadata": {},
     "output_type": "execute_result"
    }
   ],
   "source": [
    "job_done(mp4_id)"
   ]
  },
  {
   "cell_type": "code",
   "execution_count": 23,
   "metadata": {},
   "outputs": [],
   "source": [
    "mp4_data = get_data(mp4_id)"
   ]
  },
  {
   "cell_type": "code",
   "execution_count": 24,
   "metadata": {},
   "outputs": [],
   "source": [
    "save_data(mp4_data, \"test.mp4\")"
   ]
  },
  {
   "cell_type": "code",
   "execution_count": 4,
   "metadata": {},
   "outputs": [
    {
     "name": "stdout",
     "output_type": "stream",
     "text": [
      "Moviepy - Building video results/story.mp4.\n",
      "MoviePy - Writing audio in storyTEMP_MPY_wvf_snd.mp3\n"
     ]
    },
    {
     "name": "stderr",
     "output_type": "stream",
     "text": [
      "                                                                    \r"
     ]
    },
    {
     "name": "stdout",
     "output_type": "stream",
     "text": [
      "MoviePy - Done.\n",
      "Moviepy - Writing video results/story.mp4\n",
      "\n"
     ]
    },
    {
     "name": "stderr",
     "output_type": "stream",
     "text": [
      "                                                                "
     ]
    },
    {
     "name": "stdout",
     "output_type": "stream",
     "text": [
      "Moviepy - Done !\n",
      "Moviepy - video ready results/story.mp4\n"
     ]
    },
    {
     "name": "stderr",
     "output_type": "stream",
     "text": [
      "\r"
     ]
    },
    {
     "data": {
      "text/plain": [
       "'results/story.mp4'"
      ]
     },
     "execution_count": 4,
     "metadata": {},
     "output_type": "execute_result"
    }
   ],
   "source": [
    "mp4s = [\"results/0_freeman.mp4\", \"results/1_trump.mp4\"]\n",
    "\n",
    "combine_mp4s(mp4s, \"results/\", \"story\")"
   ]
  }
 ],
 "metadata": {
  "kernelspec": {
   "display_name": "venv",
   "language": "python",
   "name": "python3"
  },
  "language_info": {
   "codemirror_mode": {
    "name": "ipython",
    "version": 3
   },
   "file_extension": ".py",
   "mimetype": "text/x-python",
   "name": "python",
   "nbconvert_exporter": "python",
   "pygments_lexer": "ipython3",
   "version": "3.10.12"
  },
  "orig_nbformat": 4
 },
 "nbformat": 4,
 "nbformat_minor": 2
}
