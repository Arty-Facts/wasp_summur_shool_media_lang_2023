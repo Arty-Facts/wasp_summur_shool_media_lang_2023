{
 "cells": [
  {
   "cell_type": "code",
   "execution_count": 46,
   "metadata": {},
   "outputs": [
    {
     "name": "stdout",
     "output_type": "stream",
     "text": [
      "The autoreload extension is already loaded. To reload it, use:\n",
      "  %reload_ext autoreload\n"
     ]
    }
   ],
   "source": [
    "from story.utils import text_to_speech, parse_story\n",
    "\n",
    "%load_ext autoreload\n",
    "%autoreload 2\n"
   ]
  },
  {
   "cell_type": "code",
   "execution_count": 28,
   "metadata": {},
   "outputs": [
    {
     "name": "stdout",
     "output_type": "stream",
     "text": [
      "Generating autoregressive samples..\n"
     ]
    },
    {
     "name": "stderr",
     "output_type": "stream",
     "text": [
      "100%|██████████| 16/16 [00:21<00:00,  1.36s/it]\n"
     ]
    },
    {
     "name": "stdout",
     "output_type": "stream",
     "text": [
      "Computing best candidates using CLVP\n"
     ]
    },
    {
     "name": "stderr",
     "output_type": "stream",
     "text": [
      "100%|██████████| 16/16 [00:02<00:00,  7.32it/s]\n"
     ]
    },
    {
     "name": "stdout",
     "output_type": "stream",
     "text": [
      "Transforming autoregressive outputs into audio..\n"
     ]
    },
    {
     "name": "stderr",
     "output_type": "stream",
     "text": [
      "100%|██████████| 400/400 [00:12<00:00, 32.87it/s]\n"
     ]
    },
    {
     "data": {
      "text/plain": [
       "'results/0_trump.wav'"
      ]
     },
     "execution_count": 28,
     "metadata": {},
     "output_type": "execute_result"
    }
   ],
   "source": [
    "text_to_speech(\"Hello world im the smartest person in the world\", \"trump\", use_deepspeed=False)"
   ]
  },
  {
   "cell_type": "code",
   "execution_count": 49,
   "metadata": {},
   "outputs": [
    {
     "data": {
      "text/plain": [
       "[(0,\n",
       "  'freeman',\n",
       "  'Sheldon, Amy, Leonard, and Penny arrive at the WARA Media & Language Summer School for the first day of events.'),\n",
       " (1,\n",
       "  'sheldon',\n",
       "  \"Amy, I still can't understand why we're wasting our time at a 'Summer School.' My intelligence is hardly seasonal.\"),\n",
       " (2,\n",
       "  'amy',\n",
       "  \"Sheldon, it's a great opportunity to learn something new, and collaborate with others.\"),\n",
       " (3,\n",
       "  'sheldon',\n",
       "  \"Collaborate? That's just a fancy term for intellectual mooching.\"),\n",
       " (4,\n",
       "  'freeman',\n",
       "  \"The group is shown examples of last year's student projects.\"),\n",
       " (5,\n",
       "  'sheldon',\n",
       "  'This is preposterous! This money should be funneled into real research. Like mine.'),\n",
       " (6,\n",
       "  'amy',\n",
       "  \"Try to find the positive aspects, Sheldon. Maybe you'll even enjoy creating a short story with 3D avatars.\"),\n",
       " (7, 'sheldon', \"Enjoy? I'd sooner enjoy a root canal.\"),\n",
       " (8,\n",
       "  'freeman',\n",
       "  'Zenodia Charpy from NVIDIA is presenting about Multi-model technologies.'),\n",
       " (9,\n",
       "  'leonard',\n",
       "  \"Ah, NVIDIA, solving the age-old problem of 'it works on my system' by making sure everyone's using their system.\"),\n",
       " (10,\n",
       "  'penny',\n",
       "  \"So, what you're saying is, it's like making everyone drink the Kool-Aid?\"),\n",
       " (11,\n",
       "  'leonard',\n",
       "  'Exactly! Except the Kool-Aid is always missing a driver update.'),\n",
       " (12,\n",
       "  'freeman',\n",
       "  \"Sheldon gets frustrated during Marcus Liwicki's talk on the current limitations and future of large language models.\"),\n",
       " (13,\n",
       "  'sheldon',\n",
       "  \"Stochastic exploration? Why don't we just call it what it is: intellectual anarchy!\"),\n",
       " (14, 'amy', \"Sheldon, it's just a different approach to research.\"),\n",
       " (15,\n",
       "  'sheldon',\n",
       "  \"Well, in that case, why don't we just throw darts at a board to decide our research topics?\"),\n",
       " (16,\n",
       "  'freeman',\n",
       "  'The group is working on their assignment to create a short story with 3D avatars.'),\n",
       " (17, 'amy', 'Sheldon, can you please work with us on the storyline?'),\n",
       " (18,\n",
       "  'sheldon',\n",
       "  'I work alone. Think of me as the Batman of theoretical physics.'),\n",
       " (19, 'penny', 'Does that make Amy your Robin?'),\n",
       " (20, 'sheldon', 'More like Alfred. She manages the chaos.'),\n",
       " (21, 'amy', 'Well, Alfred is pretty essential to Batman.'),\n",
       " (22,\n",
       "  'sheldon',\n",
       "  \"Fine, I'll collaborate, but only because Alfred makes a mean cup of tea.\")]"
      ]
     },
     "execution_count": 49,
     "metadata": {},
     "output_type": "execute_result"
    }
   ],
   "source": [
    "parse_story(\"project/story.json\")"
   ]
  },
  {
   "cell_type": "code",
   "execution_count": 55,
   "metadata": {},
   "outputs": [],
   "source": [
    "import requests\n",
    "from pathlib import Path\n"
   ]
  },
  {
   "cell_type": "code",
   "execution_count": 52,
   "metadata": {},
   "outputs": [
    {
     "data": {
      "text/plain": [
       "<_io.BufferedReader name='results/0_freeman.wav'>"
      ]
     },
     "execution_count": 52,
     "metadata": {},
     "output_type": "execute_result"
    }
   ],
   "source": []
  },
  {
   "cell_type": "code",
   "execution_count": 60,
   "metadata": {},
   "outputs": [
    {
     "name": "stdout",
     "output_type": "stream",
     "text": [
      "Request was successful\n",
      "Response: 3ae963f8-6d85-454b-ba8c-4b6e5d2be956\n"
     ]
    }
   ],
   "source": [
    "\n",
    "# The URL to make the POST request to\n",
    "url = 'http://129.192.81.237/generate_bvh/'\n",
    "\n",
    "# Prepare the multipart/form-data payload\n",
    "file = Path(\"results/0_freeman.wav\")\n",
    "\n",
    "pose = [\"Agreement\", \"Angry\", \"Disagreement\", \"Distracted\", \"Flirty\", \"Happy\", \"Laughing\", \"Neutral\", \"Old\", \"Pensive\", \"Relaxed\", \"Sad\", \"Sarcastic\", \"Scared\", \"Sneaky\", \"Speech\", \"Still\", \"Threatening\", \"Tired\"]\n",
    "files = {\n",
    "    'audio': (file.name, file.read_bytes(),  'audio/wav'),  # Replace with the correct path and filename\n",
    "}\n",
    "data = {\n",
    "    'pose': 'pose_0',\n",
    "    'style': 'Still',\n",
    "    'temperature': '0.9',\n",
    "    'seed': '934208'\n",
    "}\n",
    "\n",
    "# Make the POST request\n",
    "response = requests.post(url, files=files, data=data)\n",
    "\n",
    "# Check the status code and print the response\n",
    "if response.status_code == 202:\n",
    "    print('Request was successful')\n",
    "    print('Response:', response.json())  # Assumes that response is JSON serializable\n",
    "else:\n",
    "    print('Failed to make request')\n",
    "    print('Status code:', response.status_code)\n",
    "    print('Response:', response.text)"
   ]
  },
  {
   "cell_type": "code",
   "execution_count": 67,
   "metadata": {},
   "outputs": [],
   "source": [
    "task_id  = response.json()\n",
    "pull_url = f'http://129.192.81.237/job_id/{task_id}'\n",
    "\n",
    "response = requests.get(pull_url)\n",
    "response.json()"
   ]
  },
  {
   "cell_type": "code",
   "execution_count": 69,
   "metadata": {},
   "outputs": [
    {
     "data": {
      "text/plain": [
       "{'state': 'SUCCESS', 'result': 'Task completed successfully!'}"
      ]
     },
     "execution_count": 69,
     "metadata": {},
     "output_type": "execute_result"
    }
   ],
   "source": [
    "response.json()"
   ]
  },
  {
   "cell_type": "code",
   "execution_count": 72,
   "metadata": {},
   "outputs": [],
   "source": [
    "download_url = f'http://129.192.81.237/get_files/{task_id}'\n",
    "\n",
    "response = requests.get(download_url)"
   ]
  },
  {
   "cell_type": "code",
   "execution_count": 76,
   "metadata": {},
   "outputs": [],
   "source": [
    "with open(\"results/0_freeman.bvh\", \"wb\") as f:\n",
    "    f.write(response.content)"
   ]
  },
  {
   "cell_type": "code",
   "execution_count": 77,
   "metadata": {},
   "outputs": [
    {
     "name": "stdout",
     "output_type": "stream",
     "text": [
      "Request was successful\n",
      "Response: c5477216-1d82-4071-8114-30cd67e32497\n"
     ]
    }
   ],
   "source": [
    "# The URL to make the POST request to\n",
    "url = 'http://129.192.81.237/export_fbx/'\n",
    "\n",
    "# Prepare the multipart/form-data payload\n",
    "file = Path(\"results/0_freeman.bvh\")\n",
    "\n",
    "\n",
    "files = {\n",
    "    'motion': (file.name, file.read_bytes(),  'application/octet-stream'),  # Replace with the correct path and filename\n",
    "}\n",
    "\n",
    "# Make the POST request\n",
    "response = requests.post(url, files=files)\n",
    "\n",
    "# Check the status code and print the response\n",
    "if response.status_code == 202:\n",
    "    print('Request was successful')\n",
    "    print('Response:', response.json())  # Assumes that response is JSON serializable\n",
    "    task_id = response.json()\n",
    "else:\n",
    "    print('Failed to make request')\n",
    "    print('Status code:', response.status_code)\n",
    "    print('Response:', response.text)\n"
   ]
  },
  {
   "cell_type": "code",
   "execution_count": 108,
   "metadata": {},
   "outputs": [
    {
     "name": "stdout",
     "output_type": "stream",
     "text": [
      "http://129.192.81.237/job_id/a841a128-baaf-4ebf-8e75-30135d41e14c\n"
     ]
    },
    {
     "data": {
      "text/plain": [
       "{'state': 'SUCCESS', 'result': 'Task completed successfully!'}"
      ]
     },
     "execution_count": 108,
     "metadata": {},
     "output_type": "execute_result"
    }
   ],
   "source": [
    "\n",
    "pull_url = f'http://129.192.81.237/job_id/{task_id}'\n",
    "print(pull_url)\n",
    "\n",
    "response = requests.get(pull_url)\n",
    "response.json()"
   ]
  },
  {
   "cell_type": "code",
   "execution_count": 104,
   "metadata": {},
   "outputs": [],
   "source": [
    "download_url = f'http://129.192.81.237/get_files/{task_id}'\n",
    "\n",
    "response = requests.get(download_url)"
   ]
  },
  {
   "cell_type": "code",
   "execution_count": 105,
   "metadata": {},
   "outputs": [],
   "source": [
    "with open(\"results/0_freeman.fbx\", \"wb\") as f:\n",
    "    f.write(response.content)"
   ]
  },
  {
   "cell_type": "code",
   "execution_count": 106,
   "metadata": {},
   "outputs": [
    {
     "name": "stdout",
     "output_type": "stream",
     "text": [
      "Request was successful\n",
      "Response: a841a128-baaf-4ebf-8e75-30135d41e14c\n"
     ]
    }
   ],
   "source": [
    "# The URL to make the POST request to\n",
    "url = 'http://129.192.81.237/visualise/'\n",
    "\n",
    "# Prepare the multipart/form-data payload\n",
    "file_bvh = Path(\"results/0_freeman.bvh\")\n",
    "file_wav = Path(\"results/0_freeman.wav\")\n",
    "\n",
    "files = {\n",
    "    'motion': (file_bvh.name, file_bvh.read_bytes(),  'application/octet-stream'),  # Replace with the correct path and filename\n",
    "    'audio': (file_wav.name, file_wav.read_bytes(),  'audio/wav'),  # Replace with the correct path and filename\n",
    "}\n",
    "\n",
    "# Make the POST request\n",
    "response = requests.post(url, files=files)\n",
    "\n",
    "# Check the status code and print the response\n",
    "if response.status_code == 202:\n",
    "    print('Request was successful')\n",
    "    print('Response:', response.json())  # Assumes that response is JSON serializable\n",
    "    task_id = response.json()\n",
    "else:\n",
    "    print('Failed to make request')\n",
    "    print('Status code:', response.status_code)\n",
    "    print('Response:', response.text)\n"
   ]
  },
  {
   "cell_type": "code",
   "execution_count": 109,
   "metadata": {},
   "outputs": [
    {
     "name": "stdout",
     "output_type": "stream",
     "text": [
      "http://129.192.81.237/job_id/a841a128-baaf-4ebf-8e75-30135d41e14c\n"
     ]
    },
    {
     "data": {
      "text/plain": [
       "{'state': 'SUCCESS', 'result': 'Task completed successfully!'}"
      ]
     },
     "execution_count": 109,
     "metadata": {},
     "output_type": "execute_result"
    }
   ],
   "source": [
    "pull_url = f'http://129.192.81.237/job_id/{task_id}'\n",
    "print(pull_url)\n",
    "\n",
    "response = requests.get(pull_url)\n",
    "response.json()"
   ]
  },
  {
   "cell_type": "code",
   "execution_count": 111,
   "metadata": {},
   "outputs": [
    {
     "data": {
      "text/plain": [
       "<Response [200]>"
      ]
     },
     "execution_count": 111,
     "metadata": {},
     "output_type": "execute_result"
    }
   ],
   "source": [
    "download_url = f'http://129.192.81.237/get_files/{task_id}'\n",
    "\n",
    "response = requests.get(download_url)\n",
    "response"
   ]
  },
  {
   "cell_type": "code",
   "execution_count": 112,
   "metadata": {},
   "outputs": [],
   "source": [
    "with open(\"results/0_freeman.mp4\", \"wb\") as f:\n",
    "    f.write(response.content)"
   ]
  }
 ],
 "metadata": {
  "kernelspec": {
   "display_name": "venv",
   "language": "python",
   "name": "python3"
  },
  "language_info": {
   "codemirror_mode": {
    "name": "ipython",
    "version": 3
   },
   "file_extension": ".py",
   "mimetype": "text/x-python",
   "name": "python",
   "nbconvert_exporter": "python",
   "pygments_lexer": "ipython3",
   "version": "3.10.12"
  },
  "orig_nbformat": 4
 },
 "nbformat": 4,
 "nbformat_minor": 2
}
