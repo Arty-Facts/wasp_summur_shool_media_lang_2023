{
 "cells": [
  {
   "cell_type": "code",
   "execution_count": 1,
   "metadata": {},
   "outputs": [
    {
     "name": "stdout",
     "output_type": "stream",
     "text": [
      "Adding results/0_freeman.wav as 0_c.wav\n",
      "Adding results/7_arty.wav as 7_a.wav\n",
      "Adding results/10_trump.wav as 10_b.wav\n",
      "Adding results/6_freeman.wav as 6_c.wav\n",
      "Adding results/9_freeman.wav as 9_c.wav\n",
      "Adding results/story.wav as story.wav\n",
      "Adding results/5_trump.wav as 5_b.wav\n",
      "Adding results/11_arty.wav as 11_a.wav\n",
      "Adding results/4_arty.wav as 4_a.wav\n",
      "Adding results/1_trump.wav as 1_b.wav\n",
      "Adding results/3_trump.wav as 3_b.wav\n",
      "Adding results/2_arty.wav as 2_a.wav\n",
      "Adding results/8_trump.wav as 8_b.wav\n",
      "Adding results/3_freeman.wav as 3_c.wav\n",
      "Adding results/9_freeman.fbx as 9_c.fbx\n",
      "Adding results/6_freeman.fbx as 6_c.fbx\n",
      "Adding results/10_trump.fbx as 10_b.fbx\n",
      "Adding results/7_arty.fbx as 7_a.fbx\n",
      "Adding results/0_freeman.fbx as 0_c.fbx\n",
      "Adding results/8_trump.fbx as 8_b.fbx\n",
      "Adding results/3_freeman.fbx as 3_c.fbx\n",
      "Adding results/2_arty.fbx as 2_a.fbx\n",
      "Adding results/1_trump.fbx as 1_b.fbx\n",
      "Adding results/4_arty.fbx as 4_a.fbx\n",
      "Adding results/3_trump.fbx as 3_b.fbx\n",
      "Adding results/5_trump.fbx as 5_b.fbx\n",
      "Adding results/11_arty.fbx as 11_a.fbx\n",
      "ZIP archive \"results/story.zip\" created successfully.\n"
     ]
    },
    {
     "data": {
      "text/plain": [
       "'results/story.zip'"
      ]
     },
     "execution_count": 1,
     "metadata": {},
     "output_type": "execute_result"
    }
   ],
   "source": [
    "from story.utils import zip_story\n",
    "\n",
    "story_path = \"results\"\n",
    "ext_to_zip = [\n",
    "    \"wav\", \n",
    "    \"fbx\",\n",
    "    ]\n",
    "zip_name = \"story\"\n",
    "aliases = {\n",
    "    \"arty\": \"a\", \n",
    "    \"trump\": \"b\", \n",
    "    \"freeman\": \"c\",\n",
    "    }\n",
    "\n",
    "zip_story(story_path, ext_to_zip, zip_name, aliases)"
   ]
  }
 ],
 "metadata": {
  "kernelspec": {
   "display_name": "venv",
   "language": "python",
   "name": "python3"
  },
  "language_info": {
   "codemirror_mode": {
    "name": "ipython",
    "version": 3
   },
   "file_extension": ".py",
   "mimetype": "text/x-python",
   "name": "python",
   "nbconvert_exporter": "python",
   "pygments_lexer": "ipython3",
   "version": "3.10.12"
  },
  "orig_nbformat": 4
 },
 "nbformat": 4,
 "nbformat_minor": 2
}
